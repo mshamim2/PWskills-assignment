{
 "cells": [
  {
   "cell_type": "code",
   "execution_count": null,
   "id": "af336b8e",
   "metadata": {},
   "outputs": [],
   "source": [
    "#Q1, Create a vehicle class with an init method having instance variables as name_of_vehicle, max_speed\n",
    "#and average_of_vehicle."
   ]
  },
  {
   "cell_type": "code",
   "execution_count": 2,
   "id": "6a184f81",
   "metadata": {},
   "outputs": [],
   "source": [
    "#Ans:\n",
    "class vehicle:\n",
    "    def __init__(self,name_of_vehicle,max_speed,average_of_vehicle):\n",
    "        self.name_of_vehicle=name_of_vehicle\n",
    "        self.max_speed=max_speed\n",
    "        self.average_of_vehicle=average_of_vehicle\n",
    "    "
   ]
  },
  {
   "cell_type": "code",
   "execution_count": null,
   "id": "57105860",
   "metadata": {},
   "outputs": [],
   "source": [
    "#Q2. Create a child class car from the vehicle class created in Que 1, which will inherit the vehicle class.\n",
    "#Create a method named seating_capacity which takes capacity as an argument and returns the name of\n",
    "#the vehicle and its seating capacity."
   ]
  },
  {
   "cell_type": "code",
   "execution_count": 140,
   "id": "eee604a8",
   "metadata": {},
   "outputs": [
    {
     "data": {
      "text/plain": [
       "'The seating capacity of a Honda City is 5 passengers'"
      ]
     },
     "execution_count": 140,
     "metadata": {},
     "output_type": "execute_result"
    }
   ],
   "source": [
    "#Ans:\n",
    "class vehicle:\n",
    "    def __init__(self,name_of_vehicle,max_speed,average_of_vehicle):\n",
    "        self.name_of_vehicle=name_of_vehicle\n",
    "        self.max_speed=max_speed\n",
    "        self.average_of_vehicle=average_of_vehicle\n",
    "    \n",
    "class car(vehicle):\n",
    "    def seating_capacity(self, capacity):\n",
    "        return f\"The seating capacity of a {self.name_of_vehicle} is {capacity} passengers\"\n",
    "\n",
    "    \n",
    "car1=car(\"Honda City\",\"170kmph\",\"25km\\l\")\n",
    "car1.seating_capacity(5)\n",
    "\n"
   ]
  },
  {
   "cell_type": "code",
   "execution_count": null,
   "id": "8e7b65d9",
   "metadata": {},
   "outputs": [],
   "source": [
    "#Q3. What is multiple inheritance? Write a python code to demonstrate multiple inheritance."
   ]
  },
  {
   "cell_type": "code",
   "execution_count": 174,
   "id": "3b9fab7e",
   "metadata": {},
   "outputs": [
    {
     "name": "stdout",
     "output_type": "stream",
     "text": [
      "Hello A \n",
      "Hello B\n",
      "Hello C\n"
     ]
    }
   ],
   "source": [
    "#Ans:\n",
    "#When a class is derived from more than one base class it is called multiple Inheritance.\n",
    "# In the below example an instance c from Class C can access both methodA and method B from class A and class B respectively.\n",
    "class A:\n",
    "    def methodA(self):\n",
    "        print(\"Hello A \")\n",
    "class B:\n",
    "    def methodB(self):\n",
    "        print(\"Hello B\")\n",
    "class C(A,B):\n",
    "    def methodC(self):\n",
    "        print(\"Hello C\")\n",
    "\n",
    "c=C()\n",
    "\n",
    "c.methodA()\n",
    "c.methodB()\n",
    "c.methodC()\n",
    "\n",
    "\n"
   ]
  },
  {
   "cell_type": "code",
   "execution_count": null,
   "id": "2ff94e2d",
   "metadata": {},
   "outputs": [],
   "source": [
    "#Q4. What are getter and setter in python? Create a class and create a getter and a setter method in this\n",
    "#class."
   ]
  },
  {
   "cell_type": "code",
   "execution_count": 210,
   "id": "3ee6fe98",
   "metadata": {},
   "outputs": [
    {
     "name": "stdout",
     "output_type": "stream",
     "text": [
      "Data Scientist\n",
      "Data Analyst\n"
     ]
    }
   ],
   "source": [
    "#Ans:\n",
    "#Getters:These are the methods used in Object-Oriented Programming(OOPS)which helps to access the private attributes from a class. \n",
    "#Setters: These are the methods used in OOPS feature which helps to set the value to private attributes in a class.\n",
    "class professionals:\n",
    "    def __init__(self,name):\n",
    "        self.__name=name\n",
    "    def get_professionals(self):\n",
    "        return self.__name\n",
    "    def set_professionals(self,new):\n",
    "            self.__name=new\n",
    "# creating an object p_1 of class professionals\n",
    "p_1=professionals(\"Data Scientist\")\n",
    "\n",
    "#printing the 'name' attribute using getter method\n",
    "print(p_1.get_professionals())\n",
    "\n",
    "# changing the 'name' attribute to a new name using setter method\n",
    "p_1.set_professionals(\"Data Analyst\")\n",
    "\n",
    "#printing the 'name' attribute using getter method again\n",
    "print(p_1.get_professionals())"
   ]
  },
  {
   "cell_type": "code",
   "execution_count": 178,
   "id": "a6af9612",
   "metadata": {},
   "outputs": [],
   "source": [
    "#Q5.What is method overriding in python? Write a python code to demonstrate method overriding."
   ]
  },
  {
   "cell_type": "code",
   "execution_count": 271,
   "id": "222e3da3",
   "metadata": {},
   "outputs": [
    {
     "name": "stdout",
     "output_type": "stream",
     "text": [
      "**method is implemented in parent class only**\n",
      "Homework\n",
      "Homework\n",
      "**Implementing methods with the same name**\n",
      "Homework\n",
      "Play\n"
     ]
    }
   ],
   "source": [
    "#Ans:\n",
    "#Method Overriding is redefining a parent class method in the derived class.\n",
    "\n",
    "print(\"**method is implemented in parent class only**\")\n",
    "# when a method is implemented in parent class , it will be inherited to child class. \n",
    "class Parent:\n",
    "    def method(self):\n",
    "        print(\"Homework\")\n",
    "class Child(Parent):\n",
    "    pass\n",
    "    \n",
    "obj1=Parent()\n",
    "obj2=Child()\n",
    "obj1.method()\n",
    "obj2.method()\n",
    "\n",
    "print(\"**Implementing methods with the same name**\")\n",
    "\n",
    "# when a method with the same name is implemented in parent and child class, child class will override the parent method.\n",
    "class Parent:\n",
    "    def method(self):\n",
    "        print(\"Homework\")\n",
    "class Child(Parent):\n",
    "    def method(self):\n",
    "        print(\"Play\")\n",
    "obj1=Parent()\n",
    "obj2=Child()\n",
    "obj1.method()\n",
    "obj2.method()\n",
    "        \n",
    "        \n",
    "    \n",
    "    \n",
    "    \n",
    "        \n",
    "\n",
    "        \n",
    "        \n",
    "    \n",
    "        \n",
    "    "
   ]
  }
 ],
 "metadata": {
  "kernelspec": {
   "display_name": "Python 3 (ipykernel)",
   "language": "python",
   "name": "python3"
  },
  "language_info": {
   "codemirror_mode": {
    "name": "ipython",
    "version": 3
   },
   "file_extension": ".py",
   "mimetype": "text/x-python",
   "name": "python",
   "nbconvert_exporter": "python",
   "pygments_lexer": "ipython3",
   "version": "3.9.13"
  }
 },
 "nbformat": 4,
 "nbformat_minor": 5
}
