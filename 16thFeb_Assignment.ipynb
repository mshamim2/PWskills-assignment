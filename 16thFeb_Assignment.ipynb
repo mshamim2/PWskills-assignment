{
 "cells": [
  {
   "cell_type": "code",
   "execution_count": null,
   "id": "30745aba",
   "metadata": {},
   "outputs": [],
   "source": [
    "# Q1.What is a database? Differentiate between SQL and NoSQL databases."
   ]
  },
  {
   "cell_type": "code",
   "execution_count": null,
   "id": "91545dc3",
   "metadata": {},
   "outputs": [],
   "source": [
    "#A database is an organized collection of data, stored and accessed electronically\n",
    "#1.SQL databases are relational, and NoSQL databases are non-relational.\n",
    "#2.SQL databases use structured query language (SQL) and have a predefined schema. NoSQL databases have dynamic schemas for unstructured data.\n",
    "#3.SQL databases are vertically scalable, while NoSQL databases are horizontally scalable.\n",
    "#4.SQL databases are table-based, while NoSQL databases are document, key-value, graph, or wide-column stores.\n",
    "#5.SQL databases are better for multi-row transactions, while NoSQL is better for unstructured data like documents or JSON."
   ]
  },
  {
   "cell_type": "code",
   "execution_count": null,
   "id": "322e8181",
   "metadata": {},
   "outputs": [],
   "source": [
    "#Q2. What is DDL? Explain why CREATE, DROP, ALTER, and TRRUNCATE are used with an example."
   ]
  },
  {
   "cell_type": "code",
   "execution_count": null,
   "id": "07926cb8",
   "metadata": {},
   "outputs": [],
   "source": [
    "#Data Definition Language (DDL) is a subset of SQL. It is a language for describing data and its relationships in a database. You can generate DDL in a script for database objects to: Keep a snapshot of the database structure.\n",
    "#The CREATE TABLE command creates a new table in the database.\n",
    "\n",
    "CREATE TABLE Persons (\n",
    "    PersonID int,\n",
    "    LastName varchar(255),\n",
    "    FirstName varchar(255),\n",
    "    Address varchar(255),\n",
    "    City varchar(255)\n",
    ");\n",
    "\n",
    "#The DROP TABLE command deletes a table in the database.\n",
    "\n",
    "DROP TABLE Person;\n",
    "\n",
    "#The ALTER TABLE command adds, deletes, or modifies columns in a table.The ALTER TABLE command also adds and deletes various constraints in a table.\n",
    "\n",
    "ALTER TABLE Persons\n",
    "ADD Email varchar(255);\n",
    "\n",
    "#The TRUNCATE TABLE command deletes the data inside a table, but not the table itself.\n",
    "\n",
    "TRUNCATE TABLE Persons"
   ]
  },
  {
   "cell_type": "code",
   "execution_count": null,
   "id": "f699a8e3",
   "metadata": {},
   "outputs": [],
   "source": [
    "#Q3. what is DML? Explain INSERT, UPDATE,and DELETE with an example."
   ]
  },
  {
   "cell_type": "code",
   "execution_count": null,
   "id": "cec37d00",
   "metadata": {},
   "outputs": [],
   "source": [
    "#Data Manipulation Language or DML is a subset of operations used to insert, delete, and update data in a database\n",
    "#The SQL INSERT, UPDATE, and DELETE commands enable SQL users to manipulate and modify data:\n",
    "\n",
    "#The INSERT statement introduces new rows into an existing table.\n",
    "INSERT INTO table_name (column1, column2, column3, ...)\n",
    "VALUES (value1, value2, value3, ...);\n",
    "#The DELETE statement removes a row or combination of rows from a table.\n",
    "DELETE FROM table_name WHERE condition;\n",
    "#The UPDATE statement enables users to update a row or group of rows in a table\n",
    "UPDATE table_name\n",
    "SET column1 = value1, column2 = value2, ...\n",
    "WHERE condition;\n"
   ]
  },
  {
   "cell_type": "code",
   "execution_count": null,
   "id": "4414efb9",
   "metadata": {},
   "outputs": [],
   "source": [
    "#Q4. What is DQL? Explain SELECT with an example."
   ]
  },
  {
   "cell_type": "code",
   "execution_count": null,
   "id": "d58f2b6a",
   "metadata": {},
   "outputs": [],
   "source": [
    "#DQL is a portion of a SQL statement that allows you to get and organise data from a database\n",
    "#The SELECT statement is used to select data from a database.The data returned is stored in a result table, called the result-set.\n",
    "SELECT * FROM table_name;"
   ]
  },
  {
   "cell_type": "code",
   "execution_count": null,
   "id": "92dc704d",
   "metadata": {},
   "outputs": [],
   "source": [
    "#Q5.Explain Primary Key and Foreign Key."
   ]
  },
  {
   "cell_type": "code",
   "execution_count": null,
   "id": "df4796a7",
   "metadata": {},
   "outputs": [],
   "source": [
    "#A primary key uniquely identifies a row in a table, while a foreign key is used to link two tables together by referencing the primary key of the related table. The most important difference that you should note here is that a primary key cannot have a NULL value, whereas a foreign key can accept NULL values."
   ]
  },
  {
   "cell_type": "code",
   "execution_count": null,
   "id": "e222244d",
   "metadata": {},
   "outputs": [],
   "source": [
    "#Q6.Write a python code to connect MySQL to python. Explain the cursor() and execute() method."
   ]
  },
  {
   "cell_type": "code",
   "execution_count": null,
   "id": "d071b7c6",
   "metadata": {},
   "outputs": [],
   "source": [
    "import mysql.connector\n",
    "# import mysql.connector\n",
    "#create user 'user'@'%' identified by 'password'\n",
    "mydb = mysql.connector.connect(\n",
    "  host=\"localhost\",\n",
    "  user=\"abc\",\n",
    "  password=\"password\"\n",
    ")\n",
    "\n",
    "mycursor = mydb.cursor()\n",
    "mycursor.execute(\"OPERATION\")\n",
    "\n",
    "\n",
    "#class cursor. Allows Python code to execute SQL command in a database session. Cursors are created by the connection cursor() method."
   ]
  },
  {
   "cell_type": "code",
   "execution_count": null,
   "id": "384e4c50",
   "metadata": {},
   "outputs": [],
   "source": [
    "#Q7. Give the order of execution of SQL clauses in an SQL query."
   ]
  },
  {
   "cell_type": "code",
   "execution_count": null,
   "id": "494be7a5",
   "metadata": {},
   "outputs": [],
   "source": [
    "#The order in which the clauses in queries are executed is as follows:\n",
    "\n",
    "#1. FROM/JOIN: The FROM and/or JOIN clauses are executed first to determine the data of interest.\n",
    "\n",
    "#2. WHERE: The WHERE clause is executed to filter out records that do not meet the constraints.\n",
    "\n",
    "#3. GROUP BY: The GROUP BY clause is executed to group the data based on the values in one or more columns.\n",
    "\n",
    "#4. HAVING: The HAVING clause is executed to remove the created grouped records that don’t meet the constraints.\n",
    "\n",
    "#5. SELECT: The SELECT clause is executed to derive all desired columns and expressions.\n",
    "\n",
    "#6. ORDER BY: The ORDER BY clause is executed to sort the derived values in ascending or descending order.\n",
    "\n",
    "#7. LIMIT/OFFSET: Finally, the LIMIT and/or OFFSET clauses are executed to keep or skip a specified number of rows."
   ]
  }
 ],
 "metadata": {
  "kernelspec": {
   "display_name": "Python 3 (ipykernel)",
   "language": "python",
   "name": "python3"
  },
  "language_info": {
   "codemirror_mode": {
    "name": "ipython",
    "version": 3
   },
   "file_extension": ".py",
   "mimetype": "text/x-python",
   "name": "python",
   "nbconvert_exporter": "python",
   "pygments_lexer": "ipython3",
   "version": "3.9.13"
  }
 },
 "nbformat": 4,
 "nbformat_minor": 5
}
