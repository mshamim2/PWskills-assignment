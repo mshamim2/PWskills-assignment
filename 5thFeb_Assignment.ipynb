{
 "cells": [
  {
   "cell_type": "code",
   "execution_count": null,
   "id": "98eed786",
   "metadata": {},
   "outputs": [],
   "source": [
    "#Q1. Explain Class and Object with respect to Object-Oriented Programming. Give a suitable example."
   ]
  },
  {
   "cell_type": "code",
   "execution_count": null,
   "id": "6616fc37",
   "metadata": {},
   "outputs": [],
   "source": [
    "# Ans:\n",
    "#A class can be defined as a template/blueprint that describes the behavior/state that the object of its type support.\n",
    "#An object is an instance of a class. Objects have states and behaviors.\n",
    "#Example: A dog has states - color, name, breed as well as behaviors – wagging the tail, barking, eating.\n"
   ]
  },
  {
   "cell_type": "code",
   "execution_count": null,
   "id": "61836a09",
   "metadata": {},
   "outputs": [],
   "source": [
    "#Q2. Name the four pillars of OOPs."
   ]
  },
  {
   "cell_type": "code",
   "execution_count": null,
   "id": "08ba56d6",
   "metadata": {},
   "outputs": [],
   "source": [
    "#Ans:\n",
    "#The four pillars are Inheritance, Polymorphism, Encapsulation and Abstraction."
   ]
  },
  {
   "cell_type": "code",
   "execution_count": null,
   "id": "168aed74",
   "metadata": {},
   "outputs": [],
   "source": [
    "#Q3. Explain why the __init__() function is used. Give a suitable example."
   ]
  },
  {
   "cell_type": "code",
   "execution_count": null,
   "id": "e5b981d9",
   "metadata": {},
   "outputs": [],
   "source": [
    "#Ans:\n",
    "#The __init__ function is called every time an object is created from a class. \n",
    "#The __init__ method lets the class initialize the object's attributes and serves no other purpose. \n",
    "#It is only used within classes.\n"
   ]
  },
  {
   "cell_type": "code",
   "execution_count": null,
   "id": "8fa41912",
   "metadata": {},
   "outputs": [],
   "source": [
    "#Q4. Why self is used in OOPs?"
   ]
  },
  {
   "cell_type": "code",
   "execution_count": null,
   "id": "5fb2b926",
   "metadata": {},
   "outputs": [],
   "source": [
    "#Ans:\n",
    "#The self variable is used to represent the instance of the class which is often used in object-oriented programming. \n",
    "#It works as a reference to the object.\n",
    "#Python uses the self parameter to refer to instance attributes and methods of the class."
   ]
  },
  {
   "cell_type": "code",
   "execution_count": null,
   "id": "c1a5f01b",
   "metadata": {},
   "outputs": [],
   "source": [
    "#Q5. What is inheritance? Give an example for each type of inheritance."
   ]
  },
  {
   "cell_type": "code",
   "execution_count": null,
   "id": "1be17bc9",
   "metadata": {},
   "outputs": [],
   "source": [
    "#Ans:\n",
    "#Inheritance allows us to define a class that inherits all the methods and properties from another class. \n",
    "#Parent class is the class being inherited from, also called base class. \n",
    "#Child class is the class that inherits from another class, also called derived class.\n",
    "#The type of inheritance are below.\n",
    "#Single Inheritance.\n",
    "#Multiple Inheritance.\n",
    "#Multilevel Inheritance.\n",
    "#Hierarchical Inheritance.\n",
    "#Hybrid Inheritance."
   ]
  }
 ],
 "metadata": {
  "kernelspec": {
   "display_name": "Python 3 (ipykernel)",
   "language": "python",
   "name": "python3"
  },
  "language_info": {
   "codemirror_mode": {
    "name": "ipython",
    "version": 3
   },
   "file_extension": ".py",
   "mimetype": "text/x-python",
   "name": "python",
   "nbconvert_exporter": "python",
   "pygments_lexer": "ipython3",
   "version": "3.9.13"
  }
 },
 "nbformat": 4,
 "nbformat_minor": 5
}
