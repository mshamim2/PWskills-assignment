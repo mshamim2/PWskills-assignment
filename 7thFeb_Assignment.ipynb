{
 "cells": [
  {
   "cell_type": "code",
   "execution_count": null,
   "id": "c7442b01",
   "metadata": {},
   "outputs": [],
   "source": [
    "#Q1. You are writing code for a company. The requirement of the company is that you create a python\n",
    "#function that will check whether the password entered by the user is correct or not. The function should\n",
    "#take the password as input and return the string “Valid Password” if the entered password follows the\n",
    "#below-given password guidelines else it should return “Invalid Password”.\n",
    "#Note: 1. The Password should contain at least two uppercase letters and at least two lowercase letters.\n",
    "#2. The Password should contain at least a number and three special characters.\n",
    "#3. The length of the password should be 10 characters long."
   ]
  },
  {
   "cell_type": "code",
   "execution_count": 8,
   "id": "7cc65aec",
   "metadata": {},
   "outputs": [
    {
     "name": "stdout",
     "output_type": "stream",
     "text": [
      "Please enter the passowordPAssword_1@2$3\n",
      "Valid password\n"
     ]
    }
   ],
   "source": [
    "#Ans:\n",
    "def func(password):\n",
    "    lc,uc,nmb,spc=0,0,0,0\n",
    "    for i in password:\n",
    "            if (i.islower()):\n",
    "                lc+=1\n",
    "            if (i.isupper()):\n",
    "                uc+=1\n",
    "            if (i.isdigit()):\n",
    "                nmb+=1\n",
    "            if(i==\"@\" or i==\"$\" or i==\"_\"):\n",
    "                spc+=1\n",
    "        \n",
    "    if(lc>=2 and uc>=2 and nmb>=1 and spc==3 and lc+uc+nmb+spc>=10):\n",
    "        print(\"Valid password\")\n",
    "    else:\n",
    "        return \"Invalid Password\"\n",
    "    \n",
    "x=input(\"Please enter the passoword\")\n",
    "func(x)"
   ]
  },
  {
   "cell_type": "code",
   "execution_count": null,
   "id": "620c13f9",
   "metadata": {},
   "outputs": [],
   "source": [
    "#Q2. Solve the below-given questions using at least one of the following:\n",
    "#1. Lambda function\n",
    "#2. Filter function\n",
    "#3. Map function\n",
    "#4. List Comprehension\n",
    "# Check if the string starts with a particular letter\n",
    "#Check if the string is numeric\n",
    "# Sort a list of tuples having fruit names and their quantity. [(\"mango\",99),(\"orange\",80), (\"grapes\", 1000)]\n",
    "# Find the squares of numbers from 1 to 10\n",
    "# Find the cube root of numbers from 1 to 10\n",
    "# Check if a given number is even\n",
    "# Filter odd numbers from the given list.\n",
    "#[1,2,3,4,5,6,7,8,9,10-\n",
    "# Sort a list of integers into positive and negative integers lists.\n",
    "#[1,2,3,4,5,6,-1,-2,-3,-4,-5,0]"
   ]
  },
  {
   "cell_type": "code",
   "execution_count": 30,
   "id": "3a99fd87",
   "metadata": {},
   "outputs": [
    {
     "data": {
      "text/plain": [
       "True"
      ]
     },
     "execution_count": 30,
     "metadata": {},
     "output_type": "execute_result"
    }
   ],
   "source": [
    "# Check if the string starts with a particular letter\n",
    "str1=\"PWskills\"\n",
    "(lambda string: string.startswith(\"P\"))(str1)\n"
   ]
  },
  {
   "cell_type": "code",
   "execution_count": 34,
   "id": "94babadb",
   "metadata": {},
   "outputs": [
    {
     "data": {
      "text/plain": [
       "False"
      ]
     },
     "execution_count": 34,
     "metadata": {},
     "output_type": "execute_result"
    }
   ],
   "source": [
    "#Check if the string is numeric\n",
    "(lambda string:string.isnumeric())(str1)"
   ]
  },
  {
   "cell_type": "code",
   "execution_count": 61,
   "id": "6df042b2",
   "metadata": {},
   "outputs": [
    {
     "data": {
      "text/plain": [
       "[('grapes', 1000), ('mango', 99), ('orange', 80)]"
      ]
     },
     "execution_count": 61,
     "metadata": {},
     "output_type": "execute_result"
    }
   ],
   "source": [
    "# Sort a list of tuples having fruit names and their quantity. [(\"mango\",99),(\"orange\",80), (\"grapes\", 1000)]\n",
    "liSt=[(\"mango\",99),(\"orange\",80), (\"grapes\", 1000)]\n",
    "liSt.sort(key=lambda y:y[0])\n",
    "liSt"
   ]
  },
  {
   "cell_type": "code",
   "execution_count": 6,
   "id": "ecdabfcc",
   "metadata": {},
   "outputs": [
    {
     "name": "stdout",
     "output_type": "stream",
     "text": [
      "[1, 2, 3, 4, 5, 6, 7, 8, 9, 10]\n"
     ]
    },
    {
     "data": {
      "text/plain": [
       "[1, 4, 9, 16, 25, 36, 49, 64, 81, 100]"
      ]
     },
     "execution_count": 6,
     "metadata": {},
     "output_type": "execute_result"
    }
   ],
   "source": [
    "#Find the squares of numbers from 1 to 10\n",
    "lst=list(range(1,11))\n",
    "print(lst)\n",
    "list(map(lambda x:x*x,lst))"
   ]
  },
  {
   "cell_type": "code",
   "execution_count": 87,
   "id": "73d32dff",
   "metadata": {},
   "outputs": [
    {
     "name": "stdout",
     "output_type": "stream",
     "text": [
      "[1, 2, 3, 4, 5, 6, 7, 8, 9, 10]\n"
     ]
    },
    {
     "data": {
      "text/plain": [
       "[1.0,\n",
       " 1.2599210498948732,\n",
       " 1.4422495703074083,\n",
       " 1.5874010519681994,\n",
       " 1.7099759466766968,\n",
       " 1.8171205928321397,\n",
       " 1.912931182772389,\n",
       " 2.0,\n",
       " 2.080083823051904,\n",
       " 2.154434690031884]"
      ]
     },
     "execution_count": 87,
     "metadata": {},
     "output_type": "execute_result"
    }
   ],
   "source": [
    "# Find the cube root of numbers from 1 to 10\n",
    "print(lst)\n",
    "list(map(lambda x:x**(1/3),lst))"
   ]
  },
  {
   "cell_type": "code",
   "execution_count": 5,
   "id": "c6945c50",
   "metadata": {},
   "outputs": [
    {
     "name": "stdout",
     "output_type": "stream",
     "text": [
      " Please enter a number4\n"
     ]
    },
    {
     "data": {
      "text/plain": [
       "True"
      ]
     },
     "execution_count": 5,
     "metadata": {},
     "output_type": "execute_result"
    }
   ],
   "source": [
    "# Check if a given number is even\n",
    "userInput=int(input(\" Please enter a number\"))\n",
    "(lambda x:x%2==0)(userInput)"
   ]
  },
  {
   "cell_type": "code",
   "execution_count": 12,
   "id": "40ec108e",
   "metadata": {},
   "outputs": [
    {
     "data": {
      "text/plain": [
       "[1, 3, 5, 7, 9]"
      ]
     },
     "execution_count": 12,
     "metadata": {},
     "output_type": "execute_result"
    }
   ],
   "source": [
    "#Filter odd numbers from the given list.\n",
    "l1=[1, 2, 3, 4, 5, 6, 7, 8, 9, 10]\n",
    "list(filter(lambda x:x%2!=0,l1))\n"
   ]
  },
  {
   "cell_type": "code",
   "execution_count": 24,
   "id": "80b82d03",
   "metadata": {},
   "outputs": [
    {
     "name": "stdout",
     "output_type": "stream",
     "text": [
      "The requested lists are [-1, -2, -3, -4, -5] and [1, 2, 3, 4, 5, 6, 0].\n"
     ]
    }
   ],
   "source": [
    "#Sort a list of integers into positive and negative integers lists.\n",
    "list2=[1,2,3,4,5,6,-1,-2,-3,-4,-5,0]\n",
    "neg_int_list=list(filter(lambda x:x<0,list2))\n",
    "pos_int_list=list(filter(lambda x:x>=0,list2))\n",
    "print(f\"The requested lists are {neg_int_list} and {pos_int_list}.\")\n"
   ]
  },
  {
   "cell_type": "code",
   "execution_count": null,
   "id": "026fcca4",
   "metadata": {},
   "outputs": [],
   "source": []
  }
 ],
 "metadata": {
  "kernelspec": {
   "display_name": "Python 3 (ipykernel)",
   "language": "python",
   "name": "python3"
  },
  "language_info": {
   "codemirror_mode": {
    "name": "ipython",
    "version": 3
   },
   "file_extension": ".py",
   "mimetype": "text/x-python",
   "name": "python",
   "nbconvert_exporter": "python",
   "pygments_lexer": "ipython3",
   "version": "3.9.13"
  }
 },
 "nbformat": 4,
 "nbformat_minor": 5
}
