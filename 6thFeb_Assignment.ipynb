{
 "cells": [
  {
   "cell_type": "code",
   "execution_count": null,
   "id": "34bab0e1",
   "metadata": {},
   "outputs": [],
   "source": [
    "#Q1. Create a function which will take a list as an argument and return the product of all the numbers\n",
    "#after creating a flat list.\n",
    "#Use the below-given list as an argument for your function.\n",
    "#list1 = [1,2,3,4, [44,55,66, True], False, (34,56,78,89,34), {1,2,3,3,2,1}, {1:34, \"key2\": [55, 67, 78, 89], 4: (45,\n",
    "#22, 61, 34)}, [56, 'data science'], 'Machine Learning']\n",
    "#Note: you must extract numeric keys and values of the dictionary also."
   ]
  },
  {
   "cell_type": "code",
   "execution_count": 9,
   "id": "ae25bda6",
   "metadata": {},
   "outputs": [
    {
     "data": {
      "text/plain": [
       "78718933113238978560"
      ]
     },
     "execution_count": 9,
     "metadata": {},
     "output_type": "execute_result"
    }
   ],
   "source": [
    "#Ans:\n",
    "def fun(list1):\n",
    "    x=1\n",
    "    for i in list1:\n",
    "        if type(i)==int:\n",
    "            \n",
    "            x=x*i\n",
    "        elif type(i)==list or type(i)==tuple or type(i)==set:\n",
    "             for j in i:\n",
    "                if type(j)==int:\n",
    "                    x=x*j\n",
    "        else:\n",
    "            if type(i)==dict:\n",
    "                for j in i:\n",
    "                    if type(j)==int:\n",
    "                        x=x*j\n",
    "                for j in i:\n",
    "                    if type(i[j])==int:\n",
    "                        x=x*i[j]\n",
    "                        \n",
    "    return x\n",
    "list1 = [1,2,3,4, [44,55,66, True], False, (34,56,78,89,34), {1,2,3,3,2,1}, {1:34, \"key2\": [55, 67, 78, 89], 4: (45,\n",
    "22, 61, 34)}, [56, 'data science'], 'Machine Learning']\n",
    "fun(list1)"
   ]
  },
  {
   "cell_type": "code",
   "execution_count": null,
   "id": "7d50640c",
   "metadata": {},
   "outputs": [],
   "source": [
    "#Q2. Write a python program for encrypting a message sent to you by your friend. The logic of encryption\n",
    "#should be such that, for a the output should be z. For b, the output should be y. For c, the output should\n",
    "#be x respectively. Also, the whitespace should be replaced with a dollar sign. Keep the punctuation\n",
    "#marks unchanged.\n",
    "#Input Sentence: I want to become a Data Scientist.\n",
    "#Encrypt the above input sentence using the program you just created.\n",
    "#Note: Convert the given input sentence into lowercase before encrypting. The final output should be\n",
    "#lowercase."
   ]
  },
  {
   "cell_type": "code",
   "execution_count": 14,
   "id": "90546786",
   "metadata": {},
   "outputs": [
    {
     "name": "stdout",
     "output_type": "stream",
     "text": [
      "i$wznt$to$yexome$z$dztz$sxientist.\n"
     ]
    }
   ],
   "source": [
    "#Ans:\n",
    "string=\"I want to become a Data Scientist.\"\n",
    "lower_string=string.lower()\n",
    "char_replaced={\"a\":\"z\",\"b\":\"y\",\"c\":\"x\",\" \":\"$\"}\n",
    "for x,y in char_replaced.items():\n",
    "    lower_string=lower_string.replace(x,y)\n",
    "print(lower_string)\n",
    "    \n",
    "    \n",
    "    "
   ]
  },
  {
   "cell_type": "code",
   "execution_count": null,
   "id": "7700008f",
   "metadata": {},
   "outputs": [],
   "source": []
  }
 ],
 "metadata": {
  "kernelspec": {
   "display_name": "Python 3 (ipykernel)",
   "language": "python",
   "name": "python3"
  },
  "language_info": {
   "codemirror_mode": {
    "name": "ipython",
    "version": 3
   },
   "file_extension": ".py",
   "mimetype": "text/x-python",
   "name": "python",
   "nbconvert_exporter": "python",
   "pygments_lexer": "ipython3",
   "version": "3.9.13"
  }
 },
 "nbformat": 4,
 "nbformat_minor": 5
}
