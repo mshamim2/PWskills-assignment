{
 "cells": [
  {
   "cell_type": "code",
   "execution_count": null,
   "id": "499966cc",
   "metadata": {},
   "outputs": [],
   "source": [
    "#Q1. What is multiprocessing in python? Why is it useful?\n"
   ]
  },
  {
   "cell_type": "code",
   "execution_count": null,
   "id": "473227f5",
   "metadata": {},
   "outputs": [],
   "source": [
    "#Answer:\n",
    "#A mode of operation in which two or more processors in a computer simultaneously process two or more different portions of the same program (set of instructions).\n",
    "#Multiprocessing is useful for CPU-bound processes, such as computationally heavy tasks since it will benefit from having multiple processors; similar to how multicore computers work faster than computers with a single core."
   ]
  },
  {
   "cell_type": "code",
   "execution_count": null,
   "id": "c1927cf9",
   "metadata": {},
   "outputs": [],
   "source": [
    "#Q2. What are the differences between multiprocessing and multithreading?\n"
   ]
  },
  {
   "cell_type": "code",
   "execution_count": null,
   "id": "088486c7",
   "metadata": {},
   "outputs": [],
   "source": [
    "#Answer:\n",
    "#The threading module uses threads, the multiprocessing module uses processes. The difference is that threads run in the same memory space, while processes have separate memory. This makes it a bit harder to share objects between processes with multiprocessing."
   ]
  },
  {
   "cell_type": "code",
   "execution_count": null,
   "id": "a3e4f4e8",
   "metadata": {},
   "outputs": [],
   "source": [
    "#Q3. Write a python code to create a process using the multiprocessing module.\n"
   ]
  },
  {
   "cell_type": "code",
   "execution_count": null,
   "id": "5e4b0289",
   "metadata": {},
   "outputs": [],
   "source": [
    "#Answer:\n",
    "from multiprocessing import Process\n",
    "\n",
    "def f(num):\n",
    "    print(num)\n",
    "\n",
    "if __name__ == '__main__':\n",
    "    p = Process(target=f, args=(1,))\n",
    "    p.start()"
   ]
  },
  {
   "cell_type": "code",
   "execution_count": null,
   "id": "1e1e4bd1",
   "metadata": {},
   "outputs": [],
   "source": [
    "#Q4. What is a multiprocessing pool in python? Why is it used?\n"
   ]
  },
  {
   "cell_type": "code",
   "execution_count": null,
   "id": "c1af3c16",
   "metadata": {},
   "outputs": [],
   "source": [
    "#Answer:\n",
    "#A process pool is a programming pattern for automatically managing a pool of worker processes.\n",
    "#Python multiprocessing Pool can be used for parallel execution of a function across multiple input values, distributing the input data across processes (data parallelism).\n"
   ]
  },
  {
   "cell_type": "code",
   "execution_count": null,
   "id": "9c194243",
   "metadata": {},
   "outputs": [],
   "source": [
    "#Q5. How can we create a pool of worker processes in python using the multiprocessing module?\n"
   ]
  },
  {
   "cell_type": "code",
   "execution_count": null,
   "id": "7b3c9f6b",
   "metadata": {},
   "outputs": [],
   "source": [
    "#Answer:\n",
    "from multiprocessing import Pool\n",
    "\n",
    "def f(x):\n",
    "    return x*x\n",
    "\n",
    "if __name__ == '__main__':\n",
    "    # start 4 worker processes\n",
    "    with Pool(processes=4) as pool:\n",
    "        print(pool.map(f, range(10)))"
   ]
  },
  {
   "cell_type": "code",
   "execution_count": null,
   "id": "8f809894",
   "metadata": {},
   "outputs": [],
   "source": [
    "#Q6. Write a python program to create 4 processes, each process should print a different number using the\n",
    "#multiprocessing module in python."
   ]
  },
  {
   "cell_type": "code",
   "execution_count": 4,
   "id": "375f3bc7",
   "metadata": {},
   "outputs": [],
   "source": [
    "#Answer:\n",
    "from multiprocessing import Process\n",
    "\n",
    "def f(num):\n",
    "    print(num)\n",
    "\n",
    "if __name__ == '__main__':\n",
    "    p1 = Process(target=f, args=(1,))\n",
    "    p2 = Process(target=f, args=(2,))\n",
    "    p3 = Process(target=f, args=(3,))\n",
    "    p4 = Process(target=f, args=(4,))\n",
    "    p1.start()\n",
    "    p1.join()\n",
    "    p2.start()\n",
    "    p2.join()\n",
    "    p3.start()\n",
    "    p3.join()\n",
    "    p4.start()\n",
    "    p4.join()"
   ]
  }
 ],
 "metadata": {
  "kernelspec": {
   "display_name": "Python 3 (ipykernel)",
   "language": "python",
   "name": "python3"
  },
  "language_info": {
   "codemirror_mode": {
    "name": "ipython",
    "version": 3
   },
   "file_extension": ".py",
   "mimetype": "text/x-python",
   "name": "python",
   "nbconvert_exporter": "python",
   "pygments_lexer": "ipython3",
   "version": "3.9.13"
  }
 },
 "nbformat": 4,
 "nbformat_minor": 5
}
