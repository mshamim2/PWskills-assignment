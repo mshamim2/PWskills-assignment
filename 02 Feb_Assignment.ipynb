{
 "cells": [
  {
   "cell_type": "code",
   "execution_count": 1,
   "id": "b8586593",
   "metadata": {},
   "outputs": [],
   "source": [
    "#Q1. What are the characteristics of the tuples? Is tuple immutable?"
   ]
  },
  {
   "cell_type": "code",
   "execution_count": null,
   "id": "c3b34bbc",
   "metadata": {},
   "outputs": [],
   "source": [
    "# Ans:  1.Tuple items are ordered,unchangeable, and allow duplicate values.\n",
    "#   2.Tuple items are indexed i.e first item has index[0],second item index[1] and so on.\n",
    "#   Yes, Tuples are immutable. "
   ]
  },
  {
   "cell_type": "code",
   "execution_count": null,
   "id": "7c2b0511",
   "metadata": {},
   "outputs": [],
   "source": [
    "#Q2. What are the two tuple methods in python? Give an example of each method. Give a reason why\n",
    "# tuples have only two in-built methods as compared to Lists."
   ]
  },
  {
   "cell_type": "code",
   "execution_count": 2,
   "id": "0dea897c",
   "metadata": {},
   "outputs": [],
   "source": [
    "# Ans: There are only two tuple methods count() and index() that a tuple object can call\n",
    "# 1.count() Return number of occurrences of value.\n",
    "# 2.index() Return first index of value.\n",
    "# The reason why tuples have only two in-built methods as compared to lists is that tuples are immutable. So any method that changes the size of the tuples are not available unlike list. "
   ]
  },
  {
   "cell_type": "code",
   "execution_count": null,
   "id": "6244902f",
   "metadata": {},
   "outputs": [],
   "source": [
    "# Q3.Which collection datatypes in python do not allow duplicate items? Write a code using a set to remove\n",
    "#duplicates from the given list.\n",
    "#List = [1, 1, 1, 2, 1, 3, 1, 4, 2, 1, 2, 2, 2, 3, 2, 4, 3, 1, 3, 2, 3, 3, 3, 4, 4, 1, 4, 2, 4, 3, 4, 4]"
   ]
  },
  {
   "cell_type": "code",
   "execution_count": 2,
   "id": "fc308034",
   "metadata": {},
   "outputs": [
    {
     "name": "stdout",
     "output_type": "stream",
     "text": [
      "[1, 2, 3, 4]\n"
     ]
    }
   ],
   "source": [
    "#Ans: Set do not allow duplicate items.\n",
    "List = [1, 1, 1, 2, 1, 3, 1, 4, 2, 1, 2, 2, 2, 3, 2, 4, 3, 1, 3, 2, 3, 3, 3, 4, 4, 1, 4, 2, 4, 3, 4, 4]\n",
    "new_set=set()\n",
    "new_set.update(List)\n",
    "modified_list=list(new_set)\n",
    "\n",
    "        \n",
    "print(modified_list)"
   ]
  },
  {
   "cell_type": "code",
   "execution_count": null,
   "id": "a6430ed7",
   "metadata": {},
   "outputs": [],
   "source": [
    "#Q4. Explain the difference between the union() and update() methods for a set. Give an example of\n",
    "#each method."
   ]
  },
  {
   "cell_type": "code",
   "execution_count": 35,
   "id": "a74f4e2d",
   "metadata": {},
   "outputs": [
    {
     "name": "stdout",
     "output_type": "stream",
     "text": [
      "Before applying update method set s1={1, 2, 3}\n",
      "After applying update method set s1={1, 2, 3, 4, 5}\n",
      "Before applying union method set s3={1, 2, 3}\n",
      "After applying union method set s3={1, 2, 3} but s3.union(s4) is {1, 2, 3, 4, 5}\n"
     ]
    }
   ],
   "source": [
    "# Ans: update() methods change the original set unifying with other set whereas union() do not change the original set. It returns a new set.\n",
    "# update()\n",
    "s1={1,2,3}\n",
    "s2={4,5}\n",
    "\n",
    "print(f\"Before applying update method set s1={s1}\")\n",
    "s1.update(s2)\n",
    "print(f\"After applying update method set s1={s1}\")\n",
    "\n",
    "# union()\n",
    "\n",
    "s3={1,2,3}\n",
    "s4={4,5}\n",
    "print(f\"Before applying union method set s3={s3}\")\n",
    "s3.union(s4)\n",
    "print(f\"After applying union method set s3={s3} but s3.union(s4) is {s3.union(s4)}\")\n",
    "\n",
    "\n",
    "\n"
   ]
  },
  {
   "cell_type": "code",
   "execution_count": 36,
   "id": "ceba8964",
   "metadata": {},
   "outputs": [],
   "source": [
    "#Q5. What is a dictionary? Give an example. Also, state whether a dictionary is ordered or unordered."
   ]
  },
  {
   "cell_type": "code",
   "execution_count": 37,
   "id": "5d0f17f7",
   "metadata": {},
   "outputs": [],
   "source": [
    "#Ans: Dictionaries are used to store data values in key:value pairs. A dictionary is a collection which is ordered*, changeable and do not allow duplicates. As of Python version 3.7, dictionaries are ordered. In Python 3.6 and earlier, dictionaries are unordered.\n",
    "# e.g. \n",
    "d1={\"Name\":\"Ab\",\"Age\":30,\"Country\":\"India\"}"
   ]
  },
  {
   "cell_type": "code",
   "execution_count": null,
   "id": "e1903770",
   "metadata": {},
   "outputs": [],
   "source": [
    "#Q6. Can we create a nested dictionary? If so, please give an example by creating a simple one-level\n",
    "# nested dictionary."
   ]
  },
  {
   "cell_type": "code",
   "execution_count": 39,
   "id": "f785a59a",
   "metadata": {},
   "outputs": [],
   "source": [
    "# Ans: Yes, we can create nested dictionaries.\n",
    "d1={\"emp1\":{\"name\":\"Karen\",\"age\":30,\"country\":\"America\"},\"emp2\":{\"name\":\"Deepak\",\"age\":33,\"country\":\"India\"}}"
   ]
  },
  {
   "cell_type": "code",
   "execution_count": 1,
   "id": "cca1e433",
   "metadata": {},
   "outputs": [],
   "source": [
    "#Q7. Using setdefault() method, create key named topics in the given dictionary and also add the value of\n",
    "# the key as this list ['Python', 'Machine Learning’, 'Deep Learning']\n",
    "dict1 = {'language' : 'Python', 'course': 'Data Science Masters'}"
   ]
  },
  {
   "cell_type": "code",
   "execution_count": 2,
   "id": "c1339302",
   "metadata": {},
   "outputs": [
    {
     "name": "stdout",
     "output_type": "stream",
     "text": [
      "{'language': 'Python', 'course': 'Data Science Masters', 'topics': ['Python', 'Machine Learning', 'Deep Learning']}\n"
     ]
    }
   ],
   "source": [
    "# Ans: \n",
    "dict1.setdefault(\"topics\",[\"Python\", \"Machine Learning\", \"Deep Learning\"])\n",
    "print(dict1)"
   ]
  },
  {
   "cell_type": "code",
   "execution_count": 41,
   "id": "0a305181",
   "metadata": {},
   "outputs": [],
   "source": [
    "#Q8. What are the three view objects in dictionaries? Use the three in-built methods in python to display\n",
    "# these three view objects for the given dictionary.\n",
    "dict1 = {'Sport': 'Cricket' , 'Teams': ['India', 'Australia', 'England', 'South Africa', 'Sri Lanka', 'New Zealand']}"
   ]
  },
  {
   "cell_type": "code",
   "execution_count": 45,
   "id": "2d1ac2f7",
   "metadata": {},
   "outputs": [
    {
     "name": "stdout",
     "output_type": "stream",
     "text": [
      "dict_keys(['Sport', 'Teams'])\n",
      "dict_values(['Cricket', ['India', 'Australia', 'England', 'South Africa', 'Sri Lanka', 'New Zealand']])\n",
      "dict_items([('Sport', 'Cricket'), ('Teams', ['India', 'Australia', 'England', 'South Africa', 'Sri Lanka', 'New Zealand'])])\n"
     ]
    }
   ],
   "source": [
    "# Ans: The view objects of dictionary in python are keys, values and items.\n",
    "print(dict1.keys())\n",
    "print(dict1.values())\n",
    "print(dict1.items())"
   ]
  },
  {
   "cell_type": "code",
   "execution_count": null,
   "id": "12e1995f",
   "metadata": {},
   "outputs": [],
   "source": []
  }
 ],
 "metadata": {
  "kernelspec": {
   "display_name": "Python 3 (ipykernel)",
   "language": "python",
   "name": "python3"
  },
  "language_info": {
   "codemirror_mode": {
    "name": "ipython",
    "version": 3
   },
   "file_extension": ".py",
   "mimetype": "text/x-python",
   "name": "python",
   "nbconvert_exporter": "python",
   "pygments_lexer": "ipython3",
   "version": "3.9.13"
  }
 },
 "nbformat": 4,
 "nbformat_minor": 5
}
