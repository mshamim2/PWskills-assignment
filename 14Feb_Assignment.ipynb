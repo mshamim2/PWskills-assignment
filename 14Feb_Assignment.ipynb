{
 "cells": [
  {
   "cell_type": "code",
   "execution_count": null,
   "id": "42716721",
   "metadata": {},
   "outputs": [],
   "source": [
    "# Q1.What is multithreading in python? Why is it used? Name the module used to handle threads in python."
   ]
  },
  {
   "cell_type": "code",
   "execution_count": null,
   "id": "ef522d1c",
   "metadata": {},
   "outputs": [],
   "source": [
    "#Answer:\n",
    "#Multithreading refers to concurrently executing multiple threads by rapidly switching the control of the CPU between threads (called context switching). The Python Global Interpreter Lock limits one thread to run at a time even if the machine contains multiple processors.\n",
    "#Python multithreading enables efficient utilization of the resources as the threads share the data space and memory. Multithreading in Python allows the concurrent and parallel occurrence of various tasks. It causes a reduction in time consumption or response time, thereby increasing the performance.\n",
    "#The threading module is used to handle threads in python."
   ]
  },
  {
   "cell_type": "code",
   "execution_count": null,
   "id": "a7f68904",
   "metadata": {},
   "outputs": [],
   "source": [
    "# Q2. Why threading moduel used? Write the use of the following functions:\n",
    "#1.activeCound()\n",
    "#2.currentThread()\n",
    "#3.enumerate()"
   ]
  },
  {
   "cell_type": "code",
   "execution_count": null,
   "id": "e0b288ba",
   "metadata": {},
   "outputs": [],
   "source": [
    "#Answer:\n",
    "#Python threading allows you to have different parts of your program run concurrently and can simplify your design\n",
    "#The threading module exposes all the methods of the thread module.\n",
    "#In Python, the method threading.activecount() from the threading module is used to count the currently active or running threads.\n",
    "#current_thread() is an inbuilt method of the threading module in Python. It is used to return the current Thread object, which corresponds to the caller's thread of control.\n",
    "#enumerate() return a list of all Thread objects currently alive."
   ]
  },
  {
   "cell_type": "code",
   "execution_count": null,
   "id": "8bc6bf81",
   "metadata": {},
   "outputs": [],
   "source": [
    "#Q3. Explain the following functions:\n",
    "#1. run()\n",
    "#2. start()\n",
    "#3.join()\n",
    "#4 isAlive\n"
   ]
  },
  {
   "cell_type": "code",
   "execution_count": null,
   "id": "ad0bf777",
   "metadata": {},
   "outputs": [],
   "source": [
    "#Answer:\n",
    "#The . run() method executes any target function belonging to a given thread object that is now active. It normally executes in the background after the . start() method is invoked.\n",
    "#start() method is an inbuilt method of the Thread class of the threading module in Python. It is used to start a thread's activity. This method calls the run() method internally which then executes the target method. This method must be called at most one time for one thread\n",
    "#The . join() method delays a program's flow of execution until the target thread has been completely read.\n",
    "#is_alive() method is an inbuilt method of the Thread class of the threading module in Python. It uses a Thread object, and checks whether that thread is alive or not, ie, it is still running or not."
   ]
  },
  {
   "cell_type": "code",
   "execution_count": null,
   "id": "5850ac81",
   "metadata": {},
   "outputs": [],
   "source": [
    "# Q4. Write a python program to create two threads.Thread one must print the llst of squares and thread two must print the list of cubes."
   ]
  },
  {
   "cell_type": "code",
   "execution_count": 38,
   "id": "9baa45ae",
   "metadata": {},
   "outputs": [
    {
     "name": "stdout",
     "output_type": "stream",
     "text": [
      "Square: 25\n",
      "Square: 100\n",
      "Square: 225\n",
      "Square: 400\n",
      "Square: 625\n",
      "Cube: 125\n",
      "Cube: 1000\n",
      "Cube: 3375\n",
      "Cube: 8000\n",
      "Cube: 15625\n"
     ]
    }
   ],
   "source": [
    "#Answer:\n",
    "import threading\n",
    "l1=[5,10,15,20,25]\n",
    "def print_cube(num):\n",
    "    print(\"Cube: {}\" .format(num * num * num))\\\n",
    "\n",
    "def print_square(num):\n",
    "        print(\"Square: {}\" .format(num * num))\n",
    "t1 = [threading.Thread(target=print_square, args=(i,))for i in l1]\n",
    "t2 = [threading.Thread(target=print_cube, args=(i,)) for i in l1]\n",
    "for i in t1:\n",
    "    i.start()\n",
    "for i in t2:\n",
    "    i.start()\n",
    "    "
   ]
  },
  {
   "cell_type": "code",
   "execution_count": 37,
   "id": "9056f285",
   "metadata": {},
   "outputs": [],
   "source": [
    "# Q5. State advantages and disadvantages of multithreading"
   ]
  },
  {
   "cell_type": "code",
   "execution_count": null,
   "id": "0aae88ac",
   "metadata": {},
   "outputs": [],
   "source": [
    "#Answer:\n",
    "#This model provides more concurrency than the many-to-one model. It also allows another thread to run when a thread makes a blocking system call. It supports multiple threads to execute in parallel on microprocessors. Disadvantage of this model is that creating user thread requires the corresponding Kernel thread."
   ]
  },
  {
   "cell_type": "code",
   "execution_count": null,
   "id": "678dec90",
   "metadata": {},
   "outputs": [],
   "source": [
    "#Q6. Explain deadlocks and race conditions."
   ]
  },
  {
   "cell_type": "code",
   "execution_count": null,
   "id": "a5a91cfc",
   "metadata": {},
   "outputs": [],
   "source": [
    "#Answer:\n",
    "#Both share some similarities, such as they both occur in multi-thread solutions and hamper device performance. However, both are not the same. A race condition occurs when two threads use the same variable at a given time. Deadlock exists when two threads seek one lock simultaneously"
   ]
  }
 ],
 "metadata": {
  "kernelspec": {
   "display_name": "Python 3 (ipykernel)",
   "language": "python",
   "name": "python3"
  },
  "language_info": {
   "codemirror_mode": {
    "name": "ipython",
    "version": 3
   },
   "file_extension": ".py",
   "mimetype": "text/x-python",
   "name": "python",
   "nbconvert_exporter": "python",
   "pygments_lexer": "ipython3",
   "version": "3.9.13"
  }
 },
 "nbformat": 4,
 "nbformat_minor": 5
}
