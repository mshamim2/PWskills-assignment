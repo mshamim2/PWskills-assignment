{
 "cells": [
  {
   "cell_type": "code",
   "execution_count": null,
   "id": "2574dd3f",
   "metadata": {},
   "outputs": [],
   "source": [
    "#Q1. Write a program to accept percentage from the user and display the grade according to the following criteria\n"
   ]
  },
  {
   "cell_type": "code",
   "execution_count": 4,
   "id": "27523f0d",
   "metadata": {},
   "outputs": [
    {
     "name": "stdout",
     "output_type": "stream",
     "text": [
      "Please provide the percentage that you got in the exam45\n",
      "Congratulations!You have been Graded D.\n"
     ]
    }
   ],
   "source": [
    "#Ans:\n",
    "percentage=int(input(\"Please provide the percentage that you got in the exam\"))\n",
    "if percentage>90:\n",
    "    print(\"Congratulations!You have been Graded A.\")\n",
    "elif percentage>80 and percentage<=90:\n",
    "    print(\"Congratulations!You have been Graded B.\")\n",
    "elif percentage>=60 and percentage<=80:\n",
    "    print(\"Congratulations!You have been Graded C.\")\n",
    "else:\n",
    "    percentage<60\n",
    "    print(\"Congratulations!You have been Graded D.\")\n",
    "    "
   ]
  },
  {
   "cell_type": "code",
   "execution_count": null,
   "id": "b4d91515",
   "metadata": {},
   "outputs": [],
   "source": [
    "#Q2. Write a program t oaccept the cost price of a bike and display the road tax to be paid according to the following criteria:"
   ]
  },
  {
   "cell_type": "code",
   "execution_count": 5,
   "id": "78f76b8a",
   "metadata": {},
   "outputs": [
    {
     "name": "stdout",
     "output_type": "stream",
     "text": [
      "Please enter  the cost price of the car to get the road tax40000\n",
      "The road tax of the vehicle is 5%\n"
     ]
    }
   ],
   "source": [
    "#Ans:\n",
    "cost_price=int(input(\"Please enter  the cost price of the car to get the road tax\"))\n",
    "if cost_price>100000:\n",
    "    print(\"The road tax of the vehicle is 15%\")\n",
    "elif cost_price>50000 and cost_price<=100000:\n",
    "    print(\"The road tax of the vehicle is 10%\")\n",
    "else:\n",
    "    cost_price<=50000\n",
    "    print(\"The road tax of the vehicle is 5%\")\n"
   ]
  },
  {
   "cell_type": "code",
   "execution_count": null,
   "id": "666189ba",
   "metadata": {},
   "outputs": [],
   "source": [
    "#Q3. Accept any city from the user and display monuments of that city. "
   ]
  },
  {
   "cell_type": "code",
   "execution_count": 8,
   "id": "13de5c37",
   "metadata": {},
   "outputs": [
    {
     "name": "stdout",
     "output_type": "stream",
     "text": [
      "Please enter the city nameDelhi\n",
      "You can visit Red Fort\n"
     ]
    }
   ],
   "source": [
    "#Ans:\n",
    "city=input(\"Please enter the city name\")\n",
    "if city==\"Delhi\":\n",
    "    print(\"You can visit Red Fort\")\n",
    "elif city==\"Agra\":\n",
    "    print(\"You can visit Taj Mahal\")\n",
    "elif city==\"Jaipur\":\n",
    "    print(\"You can visit Jal Mahal\")\n",
    "else:\n",
    "    print(\"Please enter the city from the given list\")\n"
   ]
  },
  {
   "cell_type": "code",
   "execution_count": null,
   "id": "9269b303",
   "metadata": {},
   "outputs": [],
   "source": [
    "#Q4. check how many times a given number can be divided by 3 before it is less than or equal to 10. "
   ]
  },
  {
   "cell_type": "code",
   "execution_count": 40,
   "id": "d17af06b",
   "metadata": {},
   "outputs": [
    {
     "name": "stdout",
     "output_type": "stream",
     "text": [
      " Please provide a number35\n",
      "The number of times the given number is divisible by 3 as per condition is 9\n"
     ]
    }
   ],
   "source": [
    "#Ans:\n",
    "x=int(input(\" Please provide a number\"))\n",
    "i=0\n",
    "while x>=10:\n",
    "    x=x-3\n",
    "    i+=1\n",
    "print(f\"The number of times the given number is divisible by 3 as per condition is {i}\")   \n"
   ]
  },
  {
   "cell_type": "code",
   "execution_count": null,
   "id": "d0e8b30e",
   "metadata": {},
   "outputs": [],
   "source": [
    "#Q5. Why and when to use while loop in python give detailed desription with example."
   ]
  },
  {
   "cell_type": "code",
   "execution_count": 9,
   "id": "836611fb",
   "metadata": {},
   "outputs": [
    {
     "name": "stdout",
     "output_type": "stream",
     "text": [
      "1\n",
      "2\n",
      "3\n",
      "4\n",
      "5\n"
     ]
    }
   ],
   "source": [
    "#Ans:\n",
    "#Python while loop is used to run a block code until a certain condition is met. Here, A while loop evaluates the condition. If the condition evaluates to True , the code inside the while loop is executed.\n",
    "i = 1\n",
    "n = 5\n",
    "while i <= n:\n",
    "    print(i)\n",
    "    i = i + 1"
   ]
  },
  {
   "cell_type": "code",
   "execution_count": null,
   "id": "fc0437f5",
   "metadata": {},
   "outputs": [],
   "source": [
    "#Q6. Use nested while loop to print 3 different pattern. "
   ]
  },
  {
   "cell_type": "code",
   "execution_count": 19,
   "id": "d3298dd2",
   "metadata": {},
   "outputs": [
    {
     "name": "stdout",
     "output_type": "stream",
     "text": [
      "Emter number of rows5\n",
      "*\n",
      "**\n",
      "***\n",
      "****\n",
      "*****\n"
     ]
    }
   ],
   "source": [
    "#Ans:\n",
    "n=int(input(\"Emter number of rows\"))\n",
    "i=1\n",
    "while i<=n:\n",
    "      j=1\n",
    "      while j<=i:\n",
    "         print(\"*\",end=\"\")\n",
    "         j+=1\n",
    "      print()\n",
    "      i+=1"
   ]
  },
  {
   "cell_type": "code",
   "execution_count": null,
   "id": "1e9e16ec",
   "metadata": {},
   "outputs": [],
   "source": [
    "#Q7 Reverse a while loop to display numbers from 10 to 1."
   ]
  },
  {
   "cell_type": "code",
   "execution_count": 27,
   "id": "9da66cb3",
   "metadata": {},
   "outputs": [
    {
     "name": "stdout",
     "output_type": "stream",
     "text": [
      "10 9 8 7 6 5 4 3 2 1 "
     ]
    }
   ],
   "source": [
    "#Ans:\n",
    "i=10\n",
    "while i>=1:\n",
    "    print(i,end=\" \")\n",
    "    i-=1"
   ]
  },
  {
   "cell_type": "code",
   "execution_count": null,
   "id": "d114e33e",
   "metadata": {},
   "outputs": [],
   "source": [
    "#Q8 Reverse a while loop to display numbers from 10 to 1. "
   ]
  },
  {
   "cell_type": "code",
   "execution_count": 28,
   "id": "13c2a254",
   "metadata": {},
   "outputs": [
    {
     "name": "stdout",
     "output_type": "stream",
     "text": [
      "10 9 8 7 6 5 4 3 2 1 "
     ]
    }
   ],
   "source": [
    "#Ans:\n",
    "i=10\n",
    "while i>=1:\n",
    "    print(i,end=\" \")\n",
    "    i-=1"
   ]
  },
  {
   "cell_type": "code",
   "execution_count": null,
   "id": "ffe55f6e",
   "metadata": {},
   "outputs": [],
   "source": []
  }
 ],
 "metadata": {
  "kernelspec": {
   "display_name": "Python 3 (ipykernel)",
   "language": "python",
   "name": "python3"
  },
  "language_info": {
   "codemirror_mode": {
    "name": "ipython",
    "version": 3
   },
   "file_extension": ".py",
   "mimetype": "text/x-python",
   "name": "python",
   "nbconvert_exporter": "python",
   "pygments_lexer": "ipython3",
   "version": "3.9.13"
  }
 },
 "nbformat": 4,
 "nbformat_minor": 5
}
