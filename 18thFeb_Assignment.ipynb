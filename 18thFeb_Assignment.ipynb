{
 "cells": [
  {
   "cell_type": "code",
   "execution_count": null,
   "id": "53155605",
   "metadata": {},
   "outputs": [],
   "source": [
    "#Q1. What is an API? Give an example, where an API is used in real life.\n"
   ]
  },
  {
   "cell_type": "code",
   "execution_count": null,
   "id": "11edb2e5",
   "metadata": {},
   "outputs": [],
   "source": [
    "#API stands for Application Programming Interface.\n",
    "#APIs are mechanisms that enable two software components to communicate with each other using a set of definitions and protocols. For example, the weather bureau's software system contains daily weather data. The weather app on your phone “talks” to this system via APIs and shows you daily weather updates on your phone."
   ]
  },
  {
   "cell_type": "code",
   "execution_count": null,
   "id": "f793a310",
   "metadata": {},
   "outputs": [],
   "source": [
    "#Q2. Give advantages and disadvantages of using API.\n"
   ]
  },
  {
   "cell_type": "code",
   "execution_count": null,
   "id": "1e0c9c40",
   "metadata": {},
   "outputs": [],
   "source": [
    "#APIs improve customization by allowing developers to access and use data and functionality from other applications.\n",
    "#As a single point of entry, an API is a gateway and can become a hacker's primary target."
   ]
  },
  {
   "cell_type": "code",
   "execution_count": null,
   "id": "d72baae4",
   "metadata": {},
   "outputs": [],
   "source": [
    "#Q3. What is a Web API? Differentiate between API and Web API.\n"
   ]
  },
  {
   "cell_type": "code",
   "execution_count": null,
   "id": "435da90e",
   "metadata": {},
   "outputs": [],
   "source": [
    "#A web API is an application programming interface (API) for either a web server or a web browser\n",
    "#API is an interface that exposes an application's data to outside software, whereas web applications are one type of API with stricter requirements\n"
   ]
  },
  {
   "cell_type": "code",
   "execution_count": null,
   "id": "c7c224a2",
   "metadata": {},
   "outputs": [],
   "source": [
    "#Q4. Explain REST and SOAP Architecture. Mention shortcomings of SOAP.\n"
   ]
  },
  {
   "cell_type": "code",
   "execution_count": null,
   "id": "7933d848",
   "metadata": {},
   "outputs": [],
   "source": [
    "#Representational state transfer (REST) is a software architectural style that describes the architecture of the Web. It was derived from the following constraints: client-server communication. stateless communication. \n",
    "#SOAP is a protocol for the exchange of information in a distributed environment. SOAP messages are encoded as XML documents and can be exchanged using various underlying protocols.\n",
    "#it is slow and consumes more bandwidth and resource."
   ]
  },
  {
   "cell_type": "code",
   "execution_count": null,
   "id": "d6fe79bc",
   "metadata": {},
   "outputs": [],
   "source": [
    "#Q5. Differentiate between REST and SOAP."
   ]
  },
  {
   "cell_type": "code",
   "execution_count": null,
   "id": "005766b2",
   "metadata": {},
   "outputs": [],
   "source": [
    "#REST APIs uses multiple standards like HTTP, JSON, URL, and XML for data communication and transfer.\n",
    "#SOAP APIs is largely based and uses only HTTP and XML.\n",
    "#As REST API deploys and uses multiple standards as stated above, so it takes fewer resources and bandwidth as compared to SOAP API."
   ]
  }
 ],
 "metadata": {
  "kernelspec": {
   "display_name": "Python 3 (ipykernel)",
   "language": "python",
   "name": "python3"
  },
  "language_info": {
   "codemirror_mode": {
    "name": "ipython",
    "version": 3
   },
   "file_extension": ".py",
   "mimetype": "text/x-python",
   "name": "python",
   "nbconvert_exporter": "python",
   "pygments_lexer": "ipython3",
   "version": "3.9.13"
  }
 },
 "nbformat": 4,
 "nbformat_minor": 5
}
