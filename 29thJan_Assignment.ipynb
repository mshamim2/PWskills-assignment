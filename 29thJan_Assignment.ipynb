{
 "cells": [
  {
   "cell_type": "code",
   "execution_count": null,
   "id": "eec38363",
   "metadata": {},
   "outputs": [],
   "source": [
    "#Q1. Who developed Python Programming Language?\n"
   ]
  },
  {
   "cell_type": "code",
   "execution_count": null,
   "id": "849c423b",
   "metadata": {},
   "outputs": [],
   "source": [
    "#Ans: \n",
    "#Guido van Rossum developed Python Programming Language. "
   ]
  },
  {
   "cell_type": "code",
   "execution_count": null,
   "id": "6e24446d",
   "metadata": {},
   "outputs": [],
   "source": [
    "#Q2.Which type of Programming does Python support?"
   ]
  },
  {
   "cell_type": "code",
   "execution_count": null,
   "id": "e15b8ab9",
   "metadata": {},
   "outputs": [],
   "source": [
    "#Ans:\n",
    "#Python is a multi-paradigm programming language. Object-oriented programming and structured programming are fully supported, and many of their features support functional programming and aspect-oriented programming "
   ]
  },
  {
   "cell_type": "code",
   "execution_count": null,
   "id": "cf9deaee",
   "metadata": {},
   "outputs": [],
   "source": [
    "#Q3. Is Python case sensitive when dealing with identifiers?"
   ]
  },
  {
   "cell_type": "code",
   "execution_count": null,
   "id": "800876af",
   "metadata": {},
   "outputs": [],
   "source": [
    "#Ans:\n",
    "#Yes, Python is a case-sensitive language, i.e., it treats uppercase and lowercase characters differently."
   ]
  },
  {
   "cell_type": "code",
   "execution_count": null,
   "id": "610d01f3",
   "metadata": {},
   "outputs": [],
   "source": [
    "#Q4. What is the correct extension of the Python file?"
   ]
  },
  {
   "cell_type": "code",
   "execution_count": null,
   "id": "af617f97",
   "metadata": {},
   "outputs": [],
   "source": [
    "#Ans:\n",
    "# .py is the extension of a python file."
   ]
  },
  {
   "cell_type": "code",
   "execution_count": null,
   "id": "fbc73569",
   "metadata": {},
   "outputs": [],
   "source": [
    "#Q5. Is Python code compiled or interpreted?"
   ]
  },
  {
   "cell_type": "code",
   "execution_count": null,
   "id": "62d61c04",
   "metadata": {},
   "outputs": [],
   "source": [
    "#Ans:\n",
    "# Python is an interpreted language, which means the source code of a Python program is converted into bytecode that is then executed by the Python virtual machine. "
   ]
  },
  {
   "cell_type": "code",
   "execution_count": null,
   "id": "d18462a8",
   "metadata": {},
   "outputs": [],
   "source": [
    "#Q6. Name a few blocks of code used to define in Python language?"
   ]
  },
  {
   "cell_type": "code",
   "execution_count": 3,
   "id": "fb43ab2b",
   "metadata": {},
   "outputs": [
    {
     "name": "stdout",
     "output_type": "stream",
     "text": [
      "Hello\n"
     ]
    }
   ],
   "source": [
    "#Ans:\n",
    "def f1():\n",
    "    print(\"Hello\")\n",
    "f1()"
   ]
  },
  {
   "cell_type": "code",
   "execution_count": null,
   "id": "d50842b0",
   "metadata": {},
   "outputs": [],
   "source": [
    "#Q7. State a character used to give single-line comments in Python?"
   ]
  },
  {
   "cell_type": "code",
   "execution_count": null,
   "id": "33d57592",
   "metadata": {},
   "outputs": [],
   "source": [
    "#Ans:\n",
    "#We can write a single-line comment by adding a single # character before any statement or line of code"
   ]
  },
  {
   "cell_type": "code",
   "execution_count": null,
   "id": "3190ef1c",
   "metadata": {},
   "outputs": [],
   "source": [
    "#Q8.Mention functions which can help us to find the version of python that we are currently working on?"
   ]
  },
  {
   "cell_type": "code",
   "execution_count": 6,
   "id": "701a1ba5",
   "metadata": {},
   "outputs": [
    {
     "name": "stdout",
     "output_type": "stream",
     "text": [
      "Current Python Version- 3.9.13\n",
      "Current Python Version- 3.9.13 (main, Aug 25 2022, 23:51:50) [MSC v.1916 64 bit (AMD64)]\n"
     ]
    }
   ],
   "source": [
    "#Ans:\n",
    "#1.\n",
    "from platform import python_version\n",
    "print(\"Current Python Version-\", python_version())\n",
    "\n",
    "#2.\n",
    "import sys\n",
    "print(\"Current Python Version-\", sys.version)"
   ]
  },
  {
   "cell_type": "code",
   "execution_count": null,
   "id": "152a476e",
   "metadata": {},
   "outputs": [],
   "source": [
    "#Q9. Python supports the creation of anonymous functions at runtime, using a construct called ------"
   ]
  },
  {
   "cell_type": "code",
   "execution_count": null,
   "id": "dd0ac0a0",
   "metadata": {},
   "outputs": [],
   "source": [
    "#Ans:\n",
    "# Python supports to make anonymous functions which are not bound to a name(@ runtime). It uses a construct called \"lambda\" "
   ]
  },
  {
   "cell_type": "code",
   "execution_count": null,
   "id": "5f75e28e",
   "metadata": {},
   "outputs": [],
   "source": [
    "#Q10. What does pip stand for python?"
   ]
  },
  {
   "cell_type": "code",
   "execution_count": null,
   "id": "3e12128d",
   "metadata": {},
   "outputs": [],
   "source": [
    "#Ans:\n",
    "#PIP is a recursive acronym for “Preferred Installer Program” or PIP Installs Packages. It is a command-line utility that installs, reinstalls, or uninstalls PyPI packages with one simple command: pip"
   ]
  },
  {
   "cell_type": "code",
   "execution_count": null,
   "id": "9f1255f3",
   "metadata": {},
   "outputs": [],
   "source": [
    "#Q11. Mention a few built-in functions in python?"
   ]
  },
  {
   "cell_type": "code",
   "execution_count": null,
   "id": "620e25f1",
   "metadata": {},
   "outputs": [],
   "source": [
    "#Ans:\n",
    "#abs()\tReturns the absolute value of a number\n",
    "#all()\tReturns True if all items in an iterable object are true\n",
    "#format()\tFormats a specified value\n",
    "#id()\tReturns the id of an object\n",
    "#min()\tReturns the smallest item in an iterable\n",
    "#max()\tReturns the largest item in an iterable"
   ]
  },
  {
   "cell_type": "code",
   "execution_count": null,
   "id": "eb6d3081",
   "metadata": {},
   "outputs": [],
   "source": [
    "#Q12. What is the maximum possible lenght of an idenfifier in Python?"
   ]
  },
  {
   "cell_type": "code",
   "execution_count": null,
   "id": "0f6d692f",
   "metadata": {},
   "outputs": [],
   "source": [
    "#Ans:\n",
    "#An identifier can have a maximum length of 79 characters in Python. "
   ]
  },
  {
   "cell_type": "code",
   "execution_count": null,
   "id": "ff899d23",
   "metadata": {},
   "outputs": [],
   "source": [
    "#Q13. What are the benefits of using Python?"
   ]
  },
  {
   "cell_type": "code",
   "execution_count": null,
   "id": "20dcbeb4",
   "metadata": {},
   "outputs": [],
   "source": [
    "#Ans:Python is commonly used for developing websites and software, task automation, data analysis, and data visualization"
   ]
  },
  {
   "cell_type": "code",
   "execution_count": null,
   "id": "9d5b3740",
   "metadata": {},
   "outputs": [],
   "source": [
    "#Q14. How is memory managed in Python?"
   ]
  },
  {
   "cell_type": "code",
   "execution_count": null,
   "id": "d9e2fe71",
   "metadata": {},
   "outputs": [],
   "source": [
    "#Ans:\n",
    "#Memory management in Python involves a private heap containing all Python objects and data structures. The management of this private heap is ensured internally by the Python memory manager."
   ]
  },
  {
   "cell_type": "code",
   "execution_count": null,
   "id": "775b1595",
   "metadata": {},
   "outputs": [],
   "source": [
    "#Q15. How to install Python on Windows and set path variables?"
   ]
  },
  {
   "cell_type": "code",
   "execution_count": null,
   "id": "724679fd",
   "metadata": {},
   "outputs": [],
   "source": [
    "#Ans:\n",
    "#Step 1 — Downloading the Python Installer.\n",
    "#Step 2 — Running the Executable Installer.\n",
    "#Step 3 — Adding Python to the Environment Variables (optional)\n",
    "#Step 4 — Verify the Python Installation."
   ]
  },
  {
   "cell_type": "code",
   "execution_count": null,
   "id": "acbf2f0c",
   "metadata": {},
   "outputs": [],
   "source": [
    "#Q16. Is indentation required in python?"
   ]
  },
  {
   "cell_type": "code",
   "execution_count": null,
   "id": "79030efc",
   "metadata": {},
   "outputs": [],
   "source": [
    "#Ans:\n",
    "#Indentation refers to the spaces at the beginning of a code line. Where in other programming languages the indentation in code is for readability only, the indentation in Python is very important. Python uses indentation to indicate a block of code."
   ]
  }
 ],
 "metadata": {
  "kernelspec": {
   "display_name": "Python 3 (ipykernel)",
   "language": "python",
   "name": "python3"
  },
  "language_info": {
   "codemirror_mode": {
    "name": "ipython",
    "version": 3
   },
   "file_extension": ".py",
   "mimetype": "text/x-python",
   "name": "python",
   "nbconvert_exporter": "python",
   "pygments_lexer": "ipython3",
   "version": "3.9.13"
  }
 },
 "nbformat": 4,
 "nbformat_minor": 5
}
