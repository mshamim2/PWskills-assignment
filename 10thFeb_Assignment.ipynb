{
 "cells": [
  {
   "cell_type": "code",
   "execution_count": null,
   "id": "b65817a3",
   "metadata": {},
   "outputs": [],
   "source": [
    "#Q1. Which function is used to open a file? What are the different modes of opening a file? Explain each mode\n",
    "#of file opening.\n",
    "\n",
    "#Answer:\n",
    "#open() function is used to open a file. \n",
    "\n",
    "#Opens a file for reading only. \n",
    "\n",
    "#rb\n",
    "#Opens a file for reading only in binary format. \n",
    "\n",
    "#r+\n",
    "#Opens a file for both reading and writing. \n",
    "\n",
    "#rb+\n",
    "#Opens a file for both reading and writing in binary format. \n",
    "#w\n",
    "#Opens a file for writing only. Overwrites the file if the file exists. If the file does not exist, creates a new file for writing.\n",
    "\n",
    "#wb\n",
    "#Opens a file for writing only in binary format. Overwrites the file if the file exists. If the file does not exist, creates a new file for writing.\n",
    "\n",
    "#w+\n",
    "#Opens a file for both writing and reading. Overwrites the existing file if the file exists. If the file does not exist, creates a new file for reading and writing.\n",
    "\n",
    "#wb+\n",
    "#Opens a file for both writing and reading in binary format. Overwrites the existing file if the file exists. If the file does not exist, creates a new file for reading and writing.\n",
    "\n",
    "#a\n",
    "#Opens a file for appending. The file pointer is at the end of the file if the file exists. That is, the file is in the append mode. If the file does not exist, it creates a new file for writing.\n",
    "\n",
    "#ab\n",
    "#Opens a file for appending in binary format. The file pointer is at the end of the file if the file exists. That is, the file is in the append mode. If the file does not exist, it creates a new file for writing.\n",
    "\n",
    "#a+\n",
    "#Opens a file for both appending and reading. The file pointer is at the end of the file if the file exists. The file opens in the append mode. If the file does not exist, it creates a new file for reading and writing.\n",
    "\n",
    "#ab+\n",
    "#Opens a file for both appending and reading in binary format. The file pointer is at the end of the file if the file exists. The file opens in the append mode. If the file does not exist, it creates a new file for reading and writing.\n"
   ]
  },
  {
   "cell_type": "code",
   "execution_count": null,
   "id": "cb4a13ef",
   "metadata": {},
   "outputs": [],
   "source": [
    "#Q2. Why close() function is used? Why is it important to close a file?"
   ]
  },
  {
   "cell_type": "code",
   "execution_count": null,
   "id": "6870eaf8",
   "metadata": {},
   "outputs": [],
   "source": [
    "#Answer:\n",
    "# The close() method closes an open file. We should always close our files, in some cases, due to buffering, changes made to a file may not show until you close the file.\n"
   ]
  },
  {
   "cell_type": "code",
   "execution_count": null,
   "id": "eb488e25",
   "metadata": {},
   "outputs": [],
   "source": [
    "#Q3. Write a python program to create a text file. Write ‘I want to become a Data Scientist’ in that file. Then\n",
    "#close the file. Open this file and read the content of the file."
   ]
  },
  {
   "cell_type": "code",
   "execution_count": 30,
   "id": "e47f1e0d",
   "metadata": {},
   "outputs": [
    {
     "name": "stdout",
     "output_type": "stream",
     "text": [
      "I want to become a Data Scientist\n"
     ]
    }
   ],
   "source": [
    "#Answer:\n",
    "#*****************************************************************#\n",
    "File=open(\"myFile.txt\",\"w\")\n",
    "File.write(\"I want to become a Data Scientist\")\n",
    "File.close()\n",
    "\n",
    "#*****************************************************************#\n",
    "File=open(\"myFile.txt\",\"r\")\n",
    "print(File.read())\n",
    "\n"
   ]
  },
  {
   "cell_type": "code",
   "execution_count": null,
   "id": "dfe3faa0",
   "metadata": {},
   "outputs": [],
   "source": [
    "#Q4. Explain the following with python code: read(), readline() and readlines()."
   ]
  },
  {
   "cell_type": "code",
   "execution_count": 14,
   "id": "df9fb2b7",
   "metadata": {},
   "outputs": [
    {
     "name": "stdout",
     "output_type": "stream",
     "text": [
      "I wa\n",
      "I want to become a Data Scientist.\n",
      "\n",
      " Before that I will be Data Analyst \n",
      "['I want to become a Data Scientist.\\n', ' Before that I will be Data Analyst ']\n"
     ]
    }
   ],
   "source": [
    "#Answer\n",
    "#*********read()******* The .read() method prints from first to 4 postion and if executed again it will prints from 5 postion to 8 position.\n",
    "File=open(\"myFile.txt\",\"r\")\n",
    "print(File.read(4))\n",
    "\n",
    "#*********readline()*******The .readline() method prints each line from our file, every time we execute this function, until the end of the file is reached.\n",
    "\n",
    "File=open(\"myFile.txt\",\"r\")\n",
    "print(File.readline())\n",
    "print(File.readline())\n",
    "\n",
    "#*********readlines()******* The .readlines() method always gives a list of all the lines of our file as list elements#\n",
    "\n",
    "File=open(\"myFile.txt\",\"r\")\n",
    "print(File.readlines())"
   ]
  },
  {
   "cell_type": "code",
   "execution_count": null,
   "id": "b39fcd44",
   "metadata": {},
   "outputs": [],
   "source": [
    "#Q5. Explain why with statement is used with open(). What is the advantage of using with statement and\n",
    "#open() together?"
   ]
  },
  {
   "cell_type": "code",
   "execution_count": null,
   "id": "a738ba07",
   "metadata": {},
   "outputs": [],
   "source": [
    "#Answer\n",
    "#The with statement works with the open() function to open a file. Unlike open() where you have to close the file with the close() method, the with statement closes the file for you without you telling it to. This is because the with statement calls 2 built-in methods behind the scene – __enter()__ and __exit()__ .1\n",
    "#Using with means that the file will be closed as soon as you leave the block. This is beneficial because closing a file is something that can easily be forgotten and ties up resources that you no longer need."
   ]
  },
  {
   "cell_type": "code",
   "execution_count": null,
   "id": "0d6f18f3",
   "metadata": {},
   "outputs": [],
   "source": [
    "#Q6. Explain the write() and writelines() functions. Give a suitable example."
   ]
  },
  {
   "cell_type": "code",
   "execution_count": null,
   "id": "5c1ccfb1",
   "metadata": {},
   "outputs": [],
   "source": [
    "\n",
    "\n",
    "#Answer\n",
    "#The only difference between the write() and writelines() is that write() is used to write a string to an already opened file while writelines() method is used to write a list of strings in an opened file.\n",
    "##*******************************************##\n",
    "file = open(\"Employees1.txt\", \"w\")\n",
    "  \n",
    "for i in range(3):\n",
    "   name = input(\"Enter the name of the employee: \")\n",
    "   file.write(name)\n",
    "   file.write(\"\\n\")\n",
    "     \n",
    "file.close()\n",
    "  \n",
    "print(\"Data is written into the file.\")\n",
    "\n",
    "##**************************************************##\n",
    "\n",
    "\n",
    "file1 = open(\"Employees.txt\", \"w\")\n",
    "lst = []\n",
    "for i in range(3):\n",
    "    name = input(\"Enter the name of the employee: \")\n",
    "    lst.append(name + '\\n')\n",
    "      \n",
    "file1.writelines(lst)\n",
    "file1.close()\n",
    "print(\"Data is written into the file.\") \n"
   ]
  },
  {
   "cell_type": "code",
   "execution_count": null,
   "id": "4b041ea9",
   "metadata": {},
   "outputs": [],
   "source": []
  }
 ],
 "metadata": {
  "kernelspec": {
   "display_name": "Python 3 (ipykernel)",
   "language": "python",
   "name": "python3"
  },
  "language_info": {
   "codemirror_mode": {
    "name": "ipython",
    "version": 3
   },
   "file_extension": ".py",
   "mimetype": "text/x-python",
   "name": "python",
   "nbconvert_exporter": "python",
   "pygments_lexer": "ipython3",
   "version": "3.9.13"
  }
 },
 "nbformat": 4,
 "nbformat_minor": 5
}
