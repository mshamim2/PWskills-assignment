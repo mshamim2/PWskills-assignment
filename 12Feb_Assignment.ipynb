{
 "cells": [
  {
   "cell_type": "code",
   "execution_count": null,
   "id": "fe86105f",
   "metadata": {},
   "outputs": [],
   "source": [
    "#Q1. What is an Exception in python? Write the difference between Exception and Syntax errors."
   ]
  },
  {
   "cell_type": "code",
   "execution_count": null,
   "id": "c2c0456f",
   "metadata": {},
   "outputs": [],
   "source": [
    "#Answer\n",
    "#An exception is an event, which occurs during the execution of a program that disrupts the normal flow of the program's instructions. In general, when a Python script encounters a situation that it cannot cope with, it raises an exception. An exception is a Python object that represents an error.\n",
    "# difference:Errors cannot be handled, while Python exceptions can be handled at the run time."
   ]
  },
  {
   "cell_type": "code",
   "execution_count": null,
   "id": "3932f7c1",
   "metadata": {},
   "outputs": [],
   "source": [
    "#Q2. What happens when exception is not handled? Explain with an example."
   ]
  },
  {
   "cell_type": "code",
   "execution_count": 6,
   "id": "86a47745",
   "metadata": {},
   "outputs": [
    {
     "name": "stdout",
     "output_type": "stream",
     "text": [
      "Error: Denominator cannot be 0.\n"
     ]
    }
   ],
   "source": [
    "#Answer\n",
    "#If an exception is not caught (with a catch block), the runtime system will abort the program (i.e. crash) and an exception message will print to the console.\n",
    "try:\n",
    "    numerator = 10\n",
    "    denominator = 0\n",
    "\n",
    "    result = numerator/denominator\n",
    "\n",
    "    print(result)\n",
    "except:\n",
    "    print(\"Error: Denominator cannot be 0.\")"
   ]
  },
  {
   "cell_type": "code",
   "execution_count": null,
   "id": "49c1dd6f",
   "metadata": {},
   "outputs": [],
   "source": [
    "#Q3. Which Python statements are used to catch and handle exception? Explain with an example."
   ]
  },
  {
   "cell_type": "code",
   "execution_count": 9,
   "id": "1c1fdc10",
   "metadata": {},
   "outputs": [
    {
     "name": "stdout",
     "output_type": "stream",
     "text": [
      "Error: Denominator cannot be 0.\n"
     ]
    }
   ],
   "source": [
    "#Answer\n",
    "#The try and except block in Python is used to catch and handle exceptions. Python executes code following the try statement as a “normal” part of the program. The code that follows the except statement is the program's response to any exceptions in the preceding try clause.\n",
    "try:\n",
    "    numerator = 10\n",
    "    denominator = 0\n",
    "\n",
    "    result = numerator/denominator\n",
    "\n",
    "    print(result)\n",
    "except:\n",
    "    print(\"Error: Denominator cannot be 0.\")"
   ]
  },
  {
   "cell_type": "code",
   "execution_count": null,
   "id": "11cc47d7",
   "metadata": {},
   "outputs": [],
   "source": [
    "#Q4. Explain with an example:\n",
    "#a.  try and else\n",
    "#b.  finally\n",
    "#c.  raise"
   ]
  },
  {
   "cell_type": "code",
   "execution_count": 24,
   "id": "1a38f891",
   "metadata": {},
   "outputs": [
    {
     "name": "stdout",
     "output_type": "stream",
     "text": [
      "5.0\n",
      "Calculation has been done\n"
     ]
    },
    {
     "ename": "Exception",
     "evalue": "numerator needs to be greater than 100",
     "output_type": "error",
     "traceback": [
      "\u001b[1;31m---------------------------------------------------------------------------\u001b[0m",
      "\u001b[1;31mException\u001b[0m                                 Traceback (most recent call last)",
      "\u001b[1;32m~\\AppData\\Local\\Temp\\ipykernel_10392\\4017468012.py\u001b[0m in \u001b[0;36m<module>\u001b[1;34m\u001b[0m\n\u001b[0;32m     19\u001b[0m \u001b[1;33m\u001b[0m\u001b[0m\n\u001b[0;32m     20\u001b[0m \u001b[1;32mif\u001b[0m \u001b[0mnumerator\u001b[0m \u001b[1;33m<=\u001b[0m\u001b[1;36m10\u001b[0m\u001b[1;33m:\u001b[0m\u001b[1;33m\u001b[0m\u001b[1;33m\u001b[0m\u001b[0m\n\u001b[1;32m---> 21\u001b[1;33m     \u001b[1;32mraise\u001b[0m \u001b[0mException\u001b[0m\u001b[1;33m(\u001b[0m\u001b[1;34m\"numerator needs to be greater than 100\"\u001b[0m\u001b[1;33m)\u001b[0m\u001b[1;33m\u001b[0m\u001b[1;33m\u001b[0m\u001b[0m\n\u001b[0m\u001b[0;32m     22\u001b[0m \u001b[1;33m\u001b[0m\u001b[0m\n\u001b[0;32m     23\u001b[0m \u001b[1;33m\u001b[0m\u001b[0m\n",
      "\u001b[1;31mException\u001b[0m: numerator needs to be greater than 100"
     ]
    }
   ],
   "source": [
    "#Answer\n",
    "#Else block will execute only when no exception occurs.\n",
    "#The finally block always executes after normal termination of try block or after try block terminates due to some exception. Even if you return in the except block still the finally block will execute\n",
    "#When we choose to throw an exception if a condition occurs, we use the raise keyword\n",
    "\n",
    "\n",
    "try:\n",
    "    numerator = 10\n",
    "    denominator = 2\n",
    "\n",
    "    result = numerator/denominator\n",
    "\n",
    "    \n",
    "except:\n",
    "    print(\"Error: Denominator cannot be 0.\")\n",
    "else:\n",
    "    print(result)\n",
    "finally:\n",
    "    print(\"Calculation has been done\")\n",
    "    \n",
    "if numerator <=10:\n",
    "    raise Exception(\"numerator needs to be greater than 100\")\n",
    "    \n",
    "    \n",
    "    \n"
   ]
  },
  {
   "cell_type": "code",
   "execution_count": null,
   "id": "068587c2",
   "metadata": {},
   "outputs": [],
   "source": [
    "#Q5. What are Custom Exceptions in Python? Why do we need Custom Exceptions? Explain with an example"
   ]
  },
  {
   "cell_type": "code",
   "execution_count": 25,
   "id": "1ef6bc3b",
   "metadata": {},
   "outputs": [
    {
     "ename": "CustomError",
     "evalue": "Example of Custom Exceptions in Python",
     "output_type": "error",
     "traceback": [
      "\u001b[1;31m---------------------------------------------------------------------------\u001b[0m",
      "\u001b[1;31mCustomError\u001b[0m                               Traceback (most recent call last)",
      "\u001b[1;32m~\\AppData\\Local\\Temp\\ipykernel_10392\\2755447242.py\u001b[0m in \u001b[0;36m<module>\u001b[1;34m\u001b[0m\n\u001b[0;32m      4\u001b[0m     \u001b[1;32mpass\u001b[0m\u001b[1;33m\u001b[0m\u001b[1;33m\u001b[0m\u001b[0m\n\u001b[0;32m      5\u001b[0m \u001b[1;33m\u001b[0m\u001b[0m\n\u001b[1;32m----> 6\u001b[1;33m \u001b[1;32mraise\u001b[0m \u001b[0mCustomError\u001b[0m\u001b[1;33m(\u001b[0m\u001b[1;34m\"Example of Custom Exceptions in Python\"\u001b[0m\u001b[1;33m)\u001b[0m\u001b[1;33m\u001b[0m\u001b[1;33m\u001b[0m\u001b[0m\n\u001b[0m",
      "\u001b[1;31mCustomError\u001b[0m: Example of Custom Exceptions in Python"
     ]
    }
   ],
   "source": [
    "#Answer\n",
    "#Like standard exception classes, custom exceptions are also classes. Hence, you can add functionality to the custom exception classes like: Adding attributes and properties. Adding methods e.g., log the exception, format the output, etc.\n",
    "#Built-in exceptions offer information about Python-related problems, and custom exceptions will add information about project-related problems. That way, you can design your code (and traceback, if an exception is raised) in a way that combines Python code with the language of the project.\n",
    "class CustomError(Exception):\n",
    "    pass\n",
    "\n",
    "raise CustomError(\"Example of Custom Exceptions in Python\")\n"
   ]
  },
  {
   "cell_type": "code",
   "execution_count": null,
   "id": "94476d8d",
   "metadata": {},
   "outputs": [],
   "source": [
    "#Q6. Create a custom exception class. Use this class to handle an exception."
   ]
  },
  {
   "cell_type": "code",
   "execution_count": 29,
   "id": "911a47f2",
   "metadata": {},
   "outputs": [
    {
     "name": "stdout",
     "output_type": "stream",
     "text": [
      "Enter a temperature in Fahrenheit:298\n",
      "The 298.0 is not in a valid range (32, 212)\n"
     ]
    }
   ],
   "source": [
    "#Answer\n",
    "class FahrenheitError(Exception):\n",
    "    min_f = 32\n",
    "    max_f = 212\n",
    "\n",
    "    def __init__(self, f, *args):\n",
    "        super().__init__(args)\n",
    "        self.f = f\n",
    "\n",
    "    def __str__(self):\n",
    "        return f'The {self.f} is not in a valid range {self.min_f, self.max_f}'\n",
    "\n",
    "\n",
    "def fahrenheit_to_celsius(f: float) -> float:\n",
    "    if f < FahrenheitError.min_f or f > FahrenheitError.max_f:\n",
    "        raise FahrenheitError(f)\n",
    "\n",
    "    return (f - 32) * 5 / 9\n",
    "\n",
    "\n",
    "if __name__ == '__main__':\n",
    "    f = input('Enter a temperature in Fahrenheit:')\n",
    "    try:\n",
    "        f = float(f)\n",
    "    except ValueError as ex:\n",
    "        print(ex)\n",
    "    else:\n",
    "        try:\n",
    "            c = fahrenheit_to_celsius(float(f))\n",
    "        except FahrenheitError as ex:\n",
    "            print(ex)\n",
    "        else:\n",
    "            print(f'{f} Fahrenheit = {c:.4f} Celsius')"
   ]
  }
 ],
 "metadata": {
  "kernelspec": {
   "display_name": "Python 3 (ipykernel)",
   "language": "python",
   "name": "python3"
  },
  "language_info": {
   "codemirror_mode": {
    "name": "ipython",
    "version": 3
   },
   "file_extension": ".py",
   "mimetype": "text/x-python",
   "name": "python",
   "nbconvert_exporter": "python",
   "pygments_lexer": "ipython3",
   "version": "3.9.13"
  }
 },
 "nbformat": 4,
 "nbformat_minor": 5
}
